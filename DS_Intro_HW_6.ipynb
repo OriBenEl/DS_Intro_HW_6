{
 "cells": [
  {
   "cell_type": "markdown",
   "metadata": {},
   "source": [
    "## Libraries"
   ]
  },
  {
   "cell_type": "code",
   "execution_count": 14,
   "metadata": {},
   "outputs": [],
   "source": [
    "import os\n",
    "import pandas as pd\n",
    "import numpy as np\n",
    "import requests\n",
    "from bs4 import BeautifulSoup\n",
    "import urllib\n",
    "import json\n",
    "import re\n",
    "import matplotlib\n",
    "import matplotlib.pyplot as plt"
   ]
  },
  {
   "cell_type": "markdown",
   "metadata": {},
   "source": [
    "### Loading CSV file:"
   ]
  },
  {
   "cell_type": "code",
   "execution_count": 2,
   "metadata": {},
   "outputs": [
    {
     "name": "stdout",
     "output_type": "stream",
     "text": [
      "         city       country                                        Description\n",
      "0     Antalya        Turkey  Once seen simply as the gateway to the Turkish...\n",
      "1      Athens        Greece  With equal measures of grunge and grace, Athen...\n",
      "2   Ayia-napa        Cyprus  Endless blue-sky days and a coastline riddled ...\n",
      "3     Bangkok      Thailand  Same same, but different. This Thailish T-shir...\n",
      "4   Barcelona         Spain  Barcelona is an enchanting seaside city with b...\n",
      "..        ...           ...                                                ...\n",
      "71     Venice         Italy  Imagine the audacity of building a city of mar...\n",
      "72     Vienna       Austria  Baroque streetscapes and imperial palaces set ...\n",
      "73     Warsaw        Poland  A phoenix arisen from the ashes, Poland's capi...\n",
      "74  Zakynthos        Greece  Zakynthos, also known by its Italian name Zant...\n",
      "75     Zurich   Switzerland  Culturally vibrant, efficiently run and attrac...\n",
      "\n",
      "[76 rows x 3 columns]\n"
     ]
    }
   ],
   "source": [
    "#os.chdir(\"C:/Users/ori/Desktop/txt_for_python/data\")\n",
    "\n",
    "data_file=\"df_5.csv\"\n",
    "data=pd.read_csv(data_file)\n",
    "print(data)"
   ]
  },
  {
   "cell_type": "markdown",
   "metadata": {},
   "source": [
    "## QUESTION 1:"
   ]
  },
  {
   "cell_type": "code",
   "execution_count": 4,
   "metadata": {},
   "outputs": [
    {
     "name": "stdout",
     "output_type": "stream",
     "text": [
      "         city       country  \\\n",
      "0     Antalya        Turkey   \n",
      "1      Athens        Greece   \n",
      "2   Ayia-napa        Cyprus   \n",
      "3     Bangkok      Thailand   \n",
      "4   Barcelona         Spain   \n",
      "..        ...           ...   \n",
      "71     Venice         Italy   \n",
      "72     Vienna       Austria   \n",
      "73     Warsaw        Poland   \n",
      "74  Zakynthos        Greece   \n",
      "75     Zurich   Switzerland   \n",
      "\n",
      "                                          Description  num_of_words  \n",
      "0   Once seen simply as the gateway to the Turkish...           112  \n",
      "1   With equal measures of grunge and grace, Athen...           393  \n",
      "2   Endless blue-sky days and a coastline riddled ...           147  \n",
      "3   Same same, but different. This Thailish T-shir...           390  \n",
      "4   Barcelona is an enchanting seaside city with b...           419  \n",
      "..                                                ...           ...  \n",
      "71  Imagine the audacity of building a city of mar...           412  \n",
      "72  Baroque streetscapes and imperial palaces set ...           410  \n",
      "73  A phoenix arisen from the ashes, Poland's capi...           406  \n",
      "74  Zakynthos, also known by its Italian name Zant...           118  \n",
      "75  Culturally vibrant, efficiently run and attrac...           119  \n",
      "\n",
      "[76 rows x 4 columns]\n"
     ]
    }
   ],
   "source": [
    "data[\"num_of_words\"] = data[\"Description\"].apply(lambda x: len(str(x).split(\" \")))\n",
    "print(data)\n",
    "#df[\"WANTED_COLUMN\"].apply(lambda x: len(str(x).split(' ')))"
   ]
  },
  {
   "cell_type": "markdown",
   "metadata": {},
   "source": [
    "## QUESTION 2:"
   ]
  },
  {
   "cell_type": "code",
   "execution_count": 5,
   "metadata": {},
   "outputs": [
    {
     "name": "stdout",
     "output_type": "stream",
     "text": [
      "Historically Basels position astride the mighty Rhine has contributed to its growth as a key trade and transport hub Today its a global centre for the pharmaceutical industry  titans Roche and Novartis are both headquartered here But thats of little interest to the many thousands of art and architecture lovers who visit each year for the world-famous ART Basel festival and the citys wealth of galleries museums and iconic buildingsBasels position at the juncture of the French German and Swiss borders adds to its multicultural appeal and its perhaps the place where Switzerlands Franco-Germanic roots are most evident although the dominant language spoken is Swiss-GermanIts easy to spend a day wandering the cobbled streets of the lofty and beautiful Altstadt in Grossbasel Greater Basel on the Rhines south bank before crossing the Mittlere Brücke to Kleinbasel Little Basel for a more everyday vibe and riverside alfresco dining\n"
     ]
    }
   ],
   "source": [
    "data[\"No_punct_description\"] = data[\"Description\"].apply(lambda x: str(x).replace(\".\", \"\"))\n",
    "data[\"No_punct_description\"]=data[\"No_punct_description\"].apply(lambda x: str(x).replace(\",\", \"\"))\n",
    "data[\"No_punct_description\"]=data[\"No_punct_description\"].apply(lambda x: str(x).replace(\" - \", \"\"))\n",
    "data[\"No_punct_description\"]=data[\"No_punct_description\"].apply(lambda x: str(x).replace(\"(\", \"\"))\n",
    "data[\"No_punct_description\"]=data[\"No_punct_description\"].apply(lambda x: str(x).replace(\";\", \"\"))\n",
    "data[\"No_punct_description\"]=data[\"No_punct_description\"].apply(lambda x: str(x).replace(\")\", \"\"))\n",
    "data[\"No_punct_description\"]=data[\"No_punct_description\"].apply(lambda x: str(x).replace(\"'\", \"\"))\n",
    "data[\"No_punct_description\"]=data[\"No_punct_description\"].apply(lambda x: str(x).replace(\"–\", \"\"))\n",
    "data[\"No_punct_description\"]=data[\"No_punct_description\"].apply(lambda x: str(x).replace(\":\", \"\"))\n",
    "data[\"No_punct_description\"]=data[\"No_punct_description\"].apply(lambda x: str(x).replace(\"...\", \"\"))\n",
    "data[\"No_punct_description\"]=data[\"No_punct_description\"].apply(lambda x: str(x).replace(\"!\", \"\"))\n",
    "data[\"No_punct_description\"]=data[\"No_punct_description\"].apply(lambda x: str(x).replace(\"?\", \"\"))\n",
    "data[\"No_punct_description\"]=data[\"No_punct_description\"].apply(lambda x: str(x).replace(\"&\", \"\"))\n",
    "\n",
    "print(data[\"No_punct_description\"].iloc[5])"
   ]
  },
  {
   "cell_type": "markdown",
   "metadata": {},
   "source": [
    "## QUESTION 3:\n"
   ]
  },
  {
   "cell_type": "code",
   "execution_count": 6,
   "metadata": {},
   "outputs": [
    {
     "name": "stdout",
     "output_type": "stream",
     "text": [
      "         city       country  \\\n",
      "0     Antalya        Turkey   \n",
      "1      Athens        Greece   \n",
      "2   Ayia-napa        Cyprus   \n",
      "3     Bangkok      Thailand   \n",
      "4   Barcelona         Spain   \n",
      "..        ...           ...   \n",
      "71     Venice         Italy   \n",
      "72     Vienna       Austria   \n",
      "73     Warsaw        Poland   \n",
      "74  Zakynthos        Greece   \n",
      "75     Zurich   Switzerland   \n",
      "\n",
      "                                          Description  num_of_words  \\\n",
      "0   Once seen simply as the gateway to the Turkish...           112   \n",
      "1   With equal measures of grunge and grace, Athen...           393   \n",
      "2   Endless blue-sky days and a coastline riddled ...           147   \n",
      "3   Same same, but different. This Thailish T-shir...           390   \n",
      "4   Barcelona is an enchanting seaside city with b...           419   \n",
      "..                                                ...           ...   \n",
      "71  Imagine the audacity of building a city of mar...           412   \n",
      "72  Baroque streetscapes and imperial palaces set ...           410   \n",
      "73  A phoenix arisen from the ashes, Poland's capi...           406   \n",
      "74  Zakynthos, also known by its Italian name Zant...           118   \n",
      "75  Culturally vibrant, efficiently run and attrac...           119   \n",
      "\n",
      "                                 No_punct_description  has_restaurants  \n",
      "0   Once seen simply as the gateway to the Turkish...                0  \n",
      "1   With equal measures of grunge and grace Athens...                1  \n",
      "2   Endless blue-sky days and a coastline riddled ...                0  \n",
      "3   Same same but different This Thailish T-shirt ...                1  \n",
      "4   Barcelona is an enchanting seaside city with b...                1  \n",
      "..                                                ...              ...  \n",
      "71  Imagine the audacity of building a city of mar...                0  \n",
      "72  Baroque streetscapes and imperial palaces set ...                1  \n",
      "73  A phoenix arisen from the ashes Polands capita...                1  \n",
      "74  Zakynthos also known by its Italian name Zante...                0  \n",
      "75  Culturally vibrant efficiently run and attract...                0  \n",
      "\n",
      "[76 rows x 6 columns]\n"
     ]
    }
   ],
   "source": [
    "data[\"has_restaurants\"] = data[\"Description\"].apply(lambda x: str(x).count(\"restaurant\"))\n",
    "print(data)"
   ]
  },
  {
   "cell_type": "markdown",
   "metadata": {},
   "source": [
    "## QUESTION 4:"
   ]
  },
  {
   "cell_type": "code",
   "execution_count": 7,
   "metadata": {},
   "outputs": [
    {
     "name": "stdout",
     "output_type": "stream",
     "text": [
      "         city       country  \\\n",
      "0     Antalya        Turkey   \n",
      "1      Athens        Greece   \n",
      "2   Ayia-napa        Cyprus   \n",
      "3     Bangkok      Thailand   \n",
      "4   Barcelona         Spain   \n",
      "..        ...           ...   \n",
      "71     Venice         Italy   \n",
      "72     Vienna       Austria   \n",
      "73     Warsaw        Poland   \n",
      "74  Zakynthos        Greece   \n",
      "75     Zurich   Switzerland   \n",
      "\n",
      "                                          Description  num_of_words  \\\n",
      "0   Once seen simply as the gateway to the Turkish...           112   \n",
      "1   With equal measures of grunge and grace, Athen...           393   \n",
      "2   Endless blue-sky days and a coastline riddled ...           147   \n",
      "3   Same same, but different. This Thailish T-shir...           390   \n",
      "4   Barcelona is an enchanting seaside city with b...           419   \n",
      "..                                                ...           ...   \n",
      "71  Imagine the audacity of building a city of mar...           412   \n",
      "72  Baroque streetscapes and imperial palaces set ...           410   \n",
      "73  A phoenix arisen from the ashes, Poland's capi...           406   \n",
      "74  Zakynthos, also known by its Italian name Zant...           118   \n",
      "75  Culturally vibrant, efficiently run and attrac...           119   \n",
      "\n",
      "                                 No_punct_description  has_restaurants  \\\n",
      "0   Once seen simply as the gateway to the Turkish...                0   \n",
      "1   With equal measures of grunge and grace Athens...                1   \n",
      "2   Endless blue-sky days and a coastline riddled ...                0   \n",
      "3   Same same but different This Thailish T-shirt ...                1   \n",
      "4   Barcelona is an enchanting seaside city with b...                1   \n",
      "..                                                ...              ...   \n",
      "71  Imagine the audacity of building a city of mar...                0   \n",
      "72  Baroque streetscapes and imperial palaces set ...                1   \n",
      "73  A phoenix arisen from the ashes Polands capita...                1   \n",
      "74  Zakynthos also known by its Italian name Zante...                0   \n",
      "75  Culturally vibrant efficiently run and attract...                0   \n",
      "\n",
      "    has_museums  \n",
      "0             1  \n",
      "1             0  \n",
      "2             0  \n",
      "3             0  \n",
      "4             2  \n",
      "..          ...  \n",
      "71            0  \n",
      "72            2  \n",
      "73            1  \n",
      "74            0  \n",
      "75            0  \n",
      "\n",
      "[76 rows x 7 columns]\n"
     ]
    }
   ],
   "source": [
    "data[\"has_museums\"] = data[\"Description\"].apply(lambda x: str(x).count(\"museums\"))\n",
    "print(data)"
   ]
  },
  {
   "cell_type": "markdown",
   "metadata": {},
   "source": [
    "## QUESTION 5:"
   ]
  },
  {
   "cell_type": "code",
   "execution_count": 8,
   "metadata": {},
   "outputs": [
    {
     "name": "stdout",
     "output_type": "stream",
     "text": [
      "         city       country  \\\n",
      "0     Antalya        Turkey   \n",
      "1      Athens        Greece   \n",
      "2   Ayia-napa        Cyprus   \n",
      "3     Bangkok      Thailand   \n",
      "4   Barcelona         Spain   \n",
      "..        ...           ...   \n",
      "71     Venice         Italy   \n",
      "72     Vienna       Austria   \n",
      "73     Warsaw        Poland   \n",
      "74  Zakynthos        Greece   \n",
      "75     Zurich   Switzerland   \n",
      "\n",
      "                                          Description  num_of_words  \\\n",
      "0   Once seen simply as the gateway to the Turkish...           112   \n",
      "1   With equal measures of grunge and grace, Athen...           393   \n",
      "2   Endless blue-sky days and a coastline riddled ...           147   \n",
      "3   Same same, but different. This Thailish T-shir...           390   \n",
      "4   Barcelona is an enchanting seaside city with b...           419   \n",
      "..                                                ...           ...   \n",
      "71  Imagine the audacity of building a city of mar...           412   \n",
      "72  Baroque streetscapes and imperial palaces set ...           410   \n",
      "73  A phoenix arisen from the ashes, Poland's capi...           406   \n",
      "74  Zakynthos, also known by its Italian name Zant...           118   \n",
      "75  Culturally vibrant, efficiently run and attrac...           119   \n",
      "\n",
      "                                 No_punct_description  has_restaurants  \\\n",
      "0   Once seen simply as the gateway to the Turkish...                0   \n",
      "1   With equal measures of grunge and grace Athens...                1   \n",
      "2   Endless blue-sky days and a coastline riddled ...                0   \n",
      "3   Same same but different This Thailish T-shirt ...                1   \n",
      "4   Barcelona is an enchanting seaside city with b...                1   \n",
      "..                                                ...              ...   \n",
      "71  Imagine the audacity of building a city of mar...                0   \n",
      "72  Baroque streetscapes and imperial palaces set ...                1   \n",
      "73  A phoenix arisen from the ashes Polands capita...                1   \n",
      "74  Zakynthos also known by its Italian name Zante...                0   \n",
      "75  Culturally vibrant efficiently run and attract...                0   \n",
      "\n",
      "    has_museums  has_beaches  \n",
      "0             1            0  \n",
      "1             0            0  \n",
      "2             0            1  \n",
      "3             0            0  \n",
      "4             2            0  \n",
      "..          ...          ...  \n",
      "71            0            0  \n",
      "72            2            0  \n",
      "73            1            0  \n",
      "74            0            0  \n",
      "75            0            0  \n",
      "\n",
      "[76 rows x 8 columns]\n"
     ]
    }
   ],
   "source": [
    "data[\"has_beaches\"] = data[\"Description\"].apply(lambda x: str(x).count(\" beach \" or \" ocean \" or \" sea \"))\n",
    "print(data)"
   ]
  },
  {
   "cell_type": "markdown",
   "metadata": {},
   "source": [
    "## QUESTION 6:"
   ]
  },
  {
   "cell_type": "code",
   "execution_count": 9,
   "metadata": {},
   "outputs": [
    {
     "name": "stdout",
     "output_type": "stream",
     "text": [
      "272.5131578947368\n"
     ]
    }
   ],
   "source": [
    "print(data[\"Description\"].apply(lambda x: len(str(x).split(\" \"))).mean())\n"
   ]
  },
  {
   "cell_type": "markdown",
   "metadata": {},
   "source": [
    "## QUESTION 7:"
   ]
  },
  {
   "cell_type": "code",
   "execution_count": 13,
   "metadata": {},
   "outputs": [
    {
     "name": "stdout",
     "output_type": "stream",
     "text": [
      "28    Florence\n",
      "Name: city, dtype: object\n"
     ]
    }
   ],
   "source": [
    "print(data[\"city\"].iloc[np.where(data[\"num_of_words\"]==data[\"num_of_words\"].max())])"
   ]
  },
  {
   "cell_type": "markdown",
   "metadata": {},
   "source": [
    "## QUESTION 8:"
   ]
  },
  {
   "cell_type": "code",
   "execution_count": 20,
   "metadata": {},
   "outputs": [
    {
     "data": {
      "text/plain": [
       "(array([22., 16.,  0.,  0.,  1.,  0.,  5., 31.,  0.,  1.]),\n",
       " array([103. , 144.2, 185.4, 226.6, 267.8, 309. , 350.2, 391.4, 432.6,\n",
       "        473.8, 515. ]),\n",
       " <a list of 10 Patch objects>)"
      ]
     },
     "execution_count": 20,
     "metadata": {},
     "output_type": "execute_result"
    },
    {
     "data": {
      "image/png": "[encoded data removed]",
      "text/plain": [
       "<Figure size 432x288 with 1 Axes>"
      ]
     },
     "metadata": {
      "needs_background": "light"
     },
     "output_type": "display_data"
    }
   ],
   "source": [
    "plt.hist(data[\"num_of_words\"])\n",
    "\n",
    "#x= data[\"city\"]\n",
    "#y= data[\"num_of_words\"]\n",
    "#plt.bar(x,y)\n",
    "#plt.show()"
   ]
  },
  {
   "cell_type": "markdown",
   "metadata": {},
   "source": [
    "## QUESTION 9:"
   ]
  },
  {
   "cell_type": "code",
   "execution_count": 56,
   "metadata": {},
   "outputs": [
    {
     "data": {
      "image/png": "[encoded data removed]",
      "text/plain": [
       "<Figure size 1440x504 with 1 Axes>"
      ]
     },
     "metadata": {
      "needs_background": "light"
     },
     "output_type": "display_data"
    }
   ],
   "source": [
    "x= data[\"city\"]\n",
    "y= data[\"has_restaurants\"]\n",
    "\n",
    "plt.scatter(x, y)\n",
    "\n",
    "y=data[\"has_beaches\"]\n",
    "plt.scatter(x, y,color = 'hotpink')\n",
    "plt.xlabel(\"city\")\n",
    "plt.ylabel(\"blue=restaurants & pink=beaches\")\n",
    "plt.title(\"city vs restaurants / beaches \")\n",
    "plt.rcParams[\"figure.figsize\"] = (30,7)\n",
    "plt.show()"
   ]
  },
  {
   "cell_type": "markdown",
   "metadata": {},
   "source": [
    "## QUESTION 10:"
   ]
  },
  {
   "cell_type": "code",
   "execution_count": 57,
   "metadata": {},
   "outputs": [
    {
     "data": {
      "image/png": "[encoded data removed]",
      "text/plain": [
       "<Figure size 2160x504 with 1 Axes>"
      ]
     },
     "metadata": {
      "needs_background": "light"
     },
     "output_type": "display_data"
    }
   ],
   "source": [
    "x= data[\"city\"]\n",
    "y= data[\"has_museums\"]\n",
    "\n",
    "plt.scatter(x, y)\n",
    "\n",
    "y=data[\"has_beaches\"]\n",
    "plt.scatter(x, y,color = 'hotpink')\n",
    "plt.xlabel(\"city\")\n",
    "plt.ylabel(\"blue=has_museums & pink=beaches\")\n",
    "plt.title(\"city vs has_museums / beaches \")\n",
    "plt.rcParams[\"figure.figsize\"] = (30,7)\n",
    "plt.show()"
   ]
  }
 ],
 "metadata": {
  "kernelspec": {
   "display_name": "Python 3",
   "language": "python",
   "name": "python3"
  },
  "language_info": {
   "codemirror_mode": {
    "name": "ipython",
    "version": 3
   },
   "file_extension": ".py",
   "mimetype": "text/x-python",
   "name": "python",
   "nbconvert_exporter": "python",
   "pygments_lexer": "ipython3",
   "version": "3.8.3"
  }
 },
 "nbformat": 4,
 "nbformat_minor": 4
}
